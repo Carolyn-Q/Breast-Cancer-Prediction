{
 "cells": [
  {
   "cell_type": "markdown",
   "id": "b0066c0d",
   "metadata": {
    "papermill": {
     "duration": 0.001934,
     "end_time": "2025-06-20T01:41:38.864181",
     "exception": false,
     "start_time": "2025-06-20T01:41:38.862247",
     "status": "completed"
    },
    "tags": []
   },
   "source": [
    "# Breast Cancer Diagnostic Prediction Program\n",
    "## Purpose\n",
    "Building a Machine Learning Model to Predict Tumor Benignity and Malignancy Based on the Wisconsin Breast Cancer Dataset (569 Samples, 30 Features)\n",
    "\n",
    "## Technology Stack\n",
    "- Python 3.8\n",
    "- Main library: pandas, sklearn, matplotlib\n",
    "\n",
    "## Key findings\n",
    "| Indicator | Value |\n",
    "|---|---|\n",
    "| Accuracy | 96.5% |\n",
    "| Optimal Feature | worst concave_points |\n",
    "\n",
    "## Quick Use\n",
    "```python\n",
    "# Run for complete analysis\n",
    "!python breast_cancer_analysis.py\n",
    "```\n",
    "\n",
    "> Data source：UCI Machine Learning Repository"
   ]
  },
  {
   "cell_type": "code",
   "execution_count": 1,
   "id": "e63ea5e9",
   "metadata": {
    "_cell_guid": "b1076dfc-b9ad-4769-8c92-a6c4dae69d19",
    "_uuid": "8f2839f25d086af736a60e9eeb907d3b93b6e0e5",
    "execution": {
     "iopub.execute_input": "2025-06-20T01:41:38.868549Z",
     "iopub.status.busy": "2025-06-20T01:41:38.868252Z",
     "iopub.status.idle": "2025-06-20T01:41:44.426075Z",
     "shell.execute_reply": "2025-06-20T01:41:44.424840Z"
    },
    "papermill": {
     "duration": 5.562147,
     "end_time": "2025-06-20T01:41:44.427980",
     "exception": false,
     "start_time": "2025-06-20T01:41:38.865833",
     "status": "completed"
    },
    "tags": []
   },
   "outputs": [
    {
     "name": "stdout",
     "output_type": "stream",
     "text": [
      "First five lines: \n",
      "          id diagnosis  radius_mean  texture_mean  perimeter_mean  area_mean  \\\n",
      "0    842302         M        17.99         10.38          122.80     1001.0   \n",
      "1    842517         M        20.57         17.77          132.90     1326.0   \n",
      "2  84300903         M        19.69         21.25          130.00     1203.0   \n",
      "3  84348301         M        11.42         20.38           77.58      386.1   \n",
      "4  84358402         M        20.29         14.34          135.10     1297.0   \n",
      "\n",
      "   smoothness_mean  compactness_mean  concavity_mean  concave points_mean  \\\n",
      "0          0.11840           0.27760          0.3001              0.14710   \n",
      "1          0.08474           0.07864          0.0869              0.07017   \n",
      "2          0.10960           0.15990          0.1974              0.12790   \n",
      "3          0.14250           0.28390          0.2414              0.10520   \n",
      "4          0.10030           0.13280          0.1980              0.10430   \n",
      "\n",
      "   ...  texture_worst  perimeter_worst  area_worst  smoothness_worst  \\\n",
      "0  ...          17.33           184.60      2019.0            0.1622   \n",
      "1  ...          23.41           158.80      1956.0            0.1238   \n",
      "2  ...          25.53           152.50      1709.0            0.1444   \n",
      "3  ...          26.50            98.87       567.7            0.2098   \n",
      "4  ...          16.67           152.20      1575.0            0.1374   \n",
      "\n",
      "   compactness_worst  concavity_worst  concave points_worst  symmetry_worst  \\\n",
      "0             0.6656           0.7119                0.2654          0.4601   \n",
      "1             0.1866           0.2416                0.1860          0.2750   \n",
      "2             0.4245           0.4504                0.2430          0.3613   \n",
      "3             0.8663           0.6869                0.2575          0.6638   \n",
      "4             0.2050           0.4000                0.1625          0.2364   \n",
      "\n",
      "   fractal_dimension_worst  Unnamed: 32  \n",
      "0                  0.11890          NaN  \n",
      "1                  0.08902          NaN  \n",
      "2                  0.08758          NaN  \n",
      "3                  0.17300          NaN  \n",
      "4                  0.07678          NaN  \n",
      "\n",
      "[5 rows x 33 columns]\n"
     ]
    },
    {
     "name": "stderr",
     "output_type": "stream",
     "text": [
      "/usr/local/lib/python3.11/dist-packages/pandas/io/formats/format.py:1458: RuntimeWarning: invalid value encountered in greater\n",
      "  has_large_values = (abs_vals > 1e6).any()\n",
      "/usr/local/lib/python3.11/dist-packages/pandas/io/formats/format.py:1459: RuntimeWarning: invalid value encountered in less\n",
      "  has_small_values = ((abs_vals < 10 ** (-self.digits)) & (abs_vals > 0)).any()\n",
      "/usr/local/lib/python3.11/dist-packages/pandas/io/formats/format.py:1459: RuntimeWarning: invalid value encountered in greater\n",
      "  has_small_values = ((abs_vals < 10 ** (-self.digits)) & (abs_vals > 0)).any()\n",
      "/usr/local/lib/python3.11/dist-packages/IPython/core/pylabtools.py:151: UserWarning: Glyph 65288 (\\N{FULLWIDTH LEFT PARENTHESIS}) missing from current font.\n",
      "  fig.canvas.print_figure(bytes_io, **kw)\n",
      "/usr/local/lib/python3.11/dist-packages/IPython/core/pylabtools.py:151: UserWarning: Glyph 65292 (\\N{FULLWIDTH COMMA}) missing from current font.\n",
      "  fig.canvas.print_figure(bytes_io, **kw)\n",
      "/usr/local/lib/python3.11/dist-packages/IPython/core/pylabtools.py:151: UserWarning: Glyph 65289 (\\N{FULLWIDTH RIGHT PARENTHESIS}) missing from current font.\n",
      "  fig.canvas.print_figure(bytes_io, **kw)\n"
     ]
    },
    {
     "data": {
      "image/png": "[encoded data removed]",
      "text/plain": [
       "<Figure size 800x500 with 1 Axes>"
      ]
     },
     "metadata": {},
     "output_type": "display_data"
    },
    {
     "name": "stdout",
     "output_type": "stream",
     "text": [
      "Model accuracy：96.49%\n",
      "\n",
      "5 Most Important Features:\n",
      "                  Feature  Importance\n",
      "22       perimeter_worst    0.149617\n",
      "23            area_worst    0.126899\n",
      "27  concave points_worst    0.125992\n",
      "7    concave points_mean    0.088654\n",
      "20          radius_worst    0.072332\n"
     ]
    }
   ],
   "source": [
    "import pandas as pd\n",
    "data = pd.read_csv(\"../input/breast-cancer-wisconsin-data/data.csv\")\n",
    "print(\"First five lines: \\n\", data.head())\n",
    "\n",
    "# 1. 基础设置\n",
    "import pandas as pd\n",
    "import matplotlib.pyplot as plt\n",
    "import seaborn as sns\n",
    "from sklearn.ensemble import RandomForestClassifier\n",
    "from sklearn.model_selection import train_test_split\n",
    "\n",
    "# 2. 数据加载与清洗\n",
    "data = pd.read_csv(\"../input/breast-cancer-wisconsin-data/data.csv\")\n",
    "data = data.drop(['id', 'Unnamed: 32'], axis=1)  # 删除无用列\n",
    "data['diagnosis'] = data['diagnosis'].map({'M':1, 'B':0})  # 转换标签\n",
    "\n",
    "# 3. 可视化分析（运行后会显示图表）\n",
    "plt.figure(figsize=(8,5))\n",
    "sns.boxplot(x='diagnosis', y='radius_mean', data=data)\n",
    "plt.title(\"The relationship between tumor radius and grade malignancy（0=Benign，1=Malignant）\")\n",
    "plt.show()\n",
    "\n",
    "# 4. 构建预测模型\n",
    "X = data.drop('diagnosis', axis=1)\n",
    "y = data['diagnosis']\n",
    "X_train, X_test, y_train, y_test = train_test_split(X, y, test_size=0.2)\n",
    "\n",
    "model = RandomForestClassifier()\n",
    "model.fit(X_train, y_train)\n",
    "print(f\"Model accuracy：{model.score(X_test, y_test):.2%}\")\n",
    "\n",
    "# 5. 特征重要性分析\n",
    "importances = pd.DataFrame({\n",
    "    'Feature': X.columns,\n",
    "    'Importance': model.feature_importances_\n",
    "}).sort_values('Importance', ascending=False)\n",
    "print(\"\\n5 Most Important Features:\\n\", importances.head())"
   ]
  }
 ],
 "metadata": {
  "kaggle": {
   "accelerator": "none",
   "dataSources": [
    {
     "datasetId": 180,
     "sourceId": 408,
     "sourceType": "datasetVersion"
    }
   ],
   "dockerImageVersionId": 31040,
   "isGpuEnabled": false,
   "isInternetEnabled": false,
   "language": "python",
   "sourceType": "notebook"
  },
  "kernelspec": {
   "display_name": "Python 3",
   "language": "python",
   "name": "python3"
  },
  "language_info": {
   "codemirror_mode": {
    "name": "ipython",
    "version": 3
   },
   "file_extension": ".py",
   "mimetype": "text/x-python",
   "name": "python",
   "nbconvert_exporter": "python",
   "pygments_lexer": "ipython3",
   "version": "3.11.11"
  },
  "papermill": {
   "default_parameters": {},
   "duration": 11.361118,
   "end_time": "2025-06-20T01:41:45.150663",
   "environment_variables": {},
   "exception": null,
   "input_path": "__notebook__.ipynb",
   "output_path": "__notebook__.ipynb",
   "parameters": {},
   "start_time": "2025-06-20T01:41:33.789545",
   "version": "2.6.0"
  }
 },
 "nbformat": 4,
 "nbformat_minor": 5
}
